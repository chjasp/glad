{
 "cells": [
  {
   "cell_type": "code",
   "execution_count": 40,
   "id": "357d447a-bcdf-4205-b6f6-be27d9421da0",
   "metadata": {},
   "outputs": [],
   "source": [
    "import os\n",
    "import sys\n",
    "from dotenv import load_dotenv\n",
    "from googleapiclient.discovery import build\n",
    "from youtube_transcript_api import YouTubeTranscriptApi"
   ]
  },
  {
   "cell_type": "code",
   "execution_count": 41,
   "id": "53902325-bf37-4872-ae74-1bd4b3f823c7",
   "metadata": {
    "tags": []
   },
   "outputs": [],
   "source": [
    "load_dotenv()\n",
    "api_key = os.getenv(\"GCP_API_KEY\")\n",
    "channel_name = \"@hubermanlab\""
   ]
  },
  {
   "cell_type": "code",
   "execution_count": 42,
   "id": "a0f4e563-5e33-4741-881e-435b75cb041b",
   "metadata": {
    "tags": []
   },
   "outputs": [],
   "source": [
    "class YouTubeHelper:\n",
    "    def __init__(self, api_key):\n",
    "        self.api_key = api_key\n",
    "        self.youtube = build('youtube', 'v3', developerKey=api_key)\n",
    "\n",
    "    def get_channel_id(self, channel_name):\n",
    "        request = self.youtube.search().list(\n",
    "            q=channel_name,\n",
    "            type='channel',\n",
    "            part='id',\n",
    "            maxResults=1\n",
    "        )\n",
    "        response = request.execute()\n",
    "        if response['items']:\n",
    "            return response['items'][0]['id']['channelId']\n",
    "        else:\n",
    "            return None\n",
    "\n",
    "    def get_video_ids(self, channel_id):\n",
    "        channel_response = self.youtube.channels().list(\n",
    "            id=channel_id,\n",
    "            part='contentDetails'\n",
    "        ).execute()\n",
    "        upload_playlist_id = channel_response['items'][0]['contentDetails']['relatedPlaylists']['uploads']\n",
    "        videos = []\n",
    "        next_page_token = None\n",
    "        while True:\n",
    "            playlist_response = self.youtube.playlistItems().list(\n",
    "                playlistId=upload_playlist_id,\n",
    "                part='contentDetails',\n",
    "                maxResults=50,\n",
    "                pageToken=next_page_token\n",
    "            ).execute()\n",
    "            videos += [item['contentDetails']['videoId'] for item in playlist_response['items']]\n",
    "            next_page_token = playlist_response.get('nextPageToken')\n",
    "            if next_page_token is None:\n",
    "                break\n",
    "        return videos\n",
    "\n",
    "    def get_transcript(self, video_id):\n",
    "        try:\n",
    "            transcript = YouTubeTranscriptApi.get_transcript(video_id)\n",
    "            output = ''\n",
    "            for x in transcript:\n",
    "                sentence = x['text']\n",
    "                output += f'{sentence} '\n",
    "            return transcript\n",
    "        except:\n",
    "            return None"
   ]
  },
  {
   "cell_type": "code",
   "execution_count": 33,
   "id": "5af46452-2709-4ead-8d7b-17428bad6530",
   "metadata": {
    "tags": []
   },
   "outputs": [],
   "source": [
    "yt_helper = YouTubeHelper(api_key)"
   ]
  },
  {
   "cell_type": "code",
   "execution_count": 35,
   "id": "bce87e92-1dbd-4e45-ac80-13a61efdfb64",
   "metadata": {
    "tags": []
   },
   "outputs": [],
   "source": [
    "channel_id = yt_helper.get_channel_id(channel_name)"
   ]
  },
  {
   "cell_type": "code",
   "execution_count": 36,
   "id": "662d31fc-99f8-41f8-94b6-13d49dfee3a5",
   "metadata": {
    "tags": []
   },
   "outputs": [],
   "source": [
    "video_ids = yt_helper.get_video_ids(channel_id)"
   ]
  },
  {
   "cell_type": "code",
   "execution_count": 38,
   "id": "733c1b7b-66ad-4d91-9a95-f8c072700a11",
   "metadata": {
    "tags": []
   },
   "outputs": [],
   "source": [
    "example = video_ids[0]"
   ]
  }
 ],
 "metadata": {
  "kernelspec": {
   "display_name": "Python (Local)",
   "language": "python",
   "name": "base"
  },
  "language_info": {
   "codemirror_mode": {
    "name": "ipython",
    "version": 3
   },
   "file_extension": ".py",
   "mimetype": "text/x-python",
   "name": "python",
   "nbconvert_exporter": "python",
   "pygments_lexer": "ipython3",
   "version": "3.10.13"
  }
 },
 "nbformat": 4,
 "nbformat_minor": 5
}
