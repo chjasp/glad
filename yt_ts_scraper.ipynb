{
 "cells": [
  {
   "cell_type": "code",
   "execution_count": 1,
   "id": "7fc74991-51d7-4228-a69e-582ff939aa48",
   "metadata": {},
   "outputs": [
    {
     "name": "stdout",
     "output_type": "stream",
     "text": [
      "Collecting youtube_transcript_api\n",
      "  Obtaining dependency information for youtube_transcript_api from https://files.pythonhosted.org/packages/52/42/5f57d37d56bdb09722f226ed81cc1bec63942da745aa27266b16b0e16a5d/youtube_transcript_api-0.6.2-py3-none-any.whl.metadata\n",
      "  Downloading youtube_transcript_api-0.6.2-py3-none-any.whl.metadata (15 kB)\n",
      "Requirement already satisfied: requests in /opt/conda/lib/python3.7/site-packages (from youtube_transcript_api) (2.31.0)\n",
      "Requirement already satisfied: charset-normalizer<4,>=2 in /opt/conda/lib/python3.7/site-packages (from requests->youtube_transcript_api) (3.2.0)\n",
      "Requirement already satisfied: idna<4,>=2.5 in /opt/conda/lib/python3.7/site-packages (from requests->youtube_transcript_api) (3.4)\n",
      "Requirement already satisfied: urllib3<3,>=1.21.1 in /opt/conda/lib/python3.7/site-packages (from requests->youtube_transcript_api) (1.26.16)\n",
      "Requirement already satisfied: certifi>=2017.4.17 in /opt/conda/lib/python3.7/site-packages (from requests->youtube_transcript_api) (2023.7.22)\n",
      "Downloading youtube_transcript_api-0.6.2-py3-none-any.whl (24 kB)\n",
      "Installing collected packages: youtube_transcript_api\n",
      "Successfully installed youtube_transcript_api-0.6.2\n"
     ]
    }
   ],
   "source": [
    "!pip install youtube_transcript_api"
   ]
  },
  {
   "cell_type": "code",
   "execution_count": 7,
   "id": "357d447a-bcdf-4205-b6f6-be27d9421da0",
   "metadata": {},
   "outputs": [],
   "source": [
    "import sys\n",
    "from youtube_transcript_api import YouTubeTranscriptApi"
   ]
  },
  {
   "cell_type": "code",
   "execution_count": 13,
   "id": "5e7208b8-cd66-41ac-92b3-31228f43842d",
   "metadata": {},
   "outputs": [],
   "source": [
    "video_id = \"E7W4OQfJWdw\"\n",
    "transcript = YouTubeTranscriptApi.get_transcript(video_id)"
   ]
  },
  {
   "cell_type": "code",
   "execution_count": 14,
   "id": "9f1d2bae-a33f-48b3-b9f2-477229bd6dfe",
   "metadata": {},
   "outputs": [
    {
     "name": "stdout",
     "output_type": "stream",
     "text": [
      "- Welcome to the Huberman Lab Podcast, where we discuss science and science-based tools for everyday life. [upbeat rock music] I'm Andrew Huberman, and I'm a professor of\n",
      "neurobiology and ophthalmology at Stanford School of Medicine. Today, we are talking all\n",
      "about food and the brain. We are going to talk about foods that are good for your\n",
      "brain in terms of focus, in terms of brain health generally, and the longevity of your brain, your ability to maintain cognition and clear thinking over time. We are also going to talk about why and how you prefer\n",
      "certain foods to others. And I'm going to talk about\n",
      "the three major signals that combine to drive your food choices. I'll give you a little\n",
      "hint of what those are. One of those signals comes from your gut and is completely subconscious. This is not the gut microbiome, per se. These are neurons in your gut that are sending signals to your brain that you are unaware of about the nutrient contents of\n",
      "the foods that you're eating. The second s\n"
     ]
    }
   ],
   "source": [
    "output = ''\n",
    "\n",
    "for x in transcript:\n",
    "    sentence = x['text']\n",
    "    output += f'{sentence} '\n",
    "\n",
    "print(output[:1000])"
   ]
  },
  {
   "cell_type": "code",
   "execution_count": 26,
   "id": "94200b08-7e73-4e6b-901a-f7ff08094faf",
   "metadata": {},
   "outputs": [],
   "source": [
    "with open(\"hl_podcast_42.txt\", \"w\") as f:\n",
    "    f.write(output)"
   ]
  },
  {
   "cell_type": "code",
   "execution_count": 28,
   "id": "143465a2-dc46-4bba-b3fd-65b95fdb28bb",
   "metadata": {},
   "outputs": [
    {
     "name": "stdout",
     "output_type": "stream",
     "text": [
      "upplements is that supplement\n",
      "companies don't always have the highest quality standards, and/or the amounts of the supplements that they list on the bottle aren't what actually are\n",
      "contained in the capsules, and pills, and powders\n",
      "of those supplements. For that reason, we partner\n",
      "with Thorne, T-H-O-R-N-E, because Thorne has the\n",
      "highest levels of stringency with respect to the quality\n",
      "of the supplements they use, and the quantity of the\n",
      "supplements they use. They partnered with all\n",
      "the major sports teams, and with the Mayo Clinic, and we have tremendous confidence in the quality of their supplements. If you'd like to see the\n",
      "supplements that I take, you can go to Thorne,\n",
      "thorne.com/u/huberman. There, you can get 20% off\n",
      "any of those supplements. And if you navigate into the main site through that portal of\n",
      "thorne.com/u/huberman, you can also get 20% off any of the supplements that Thorne makes. And last, but not least, thank you for your interest in science. [upbeat instrumental music] \n"
     ]
    }
   ],
   "source": [
    "with open(\"hl_podcast_42.txt\", \"r\") as f:\n",
    "    text = f.read()\n",
    "    \n",
    "print(text[-1000:])"
   ]
  },
  {
   "cell_type": "code",
   "execution_count": 33,
   "id": "4d96363b-8521-4a8a-b585-82884c8ddb04",
   "metadata": {},
   "outputs": [
    {
     "name": "stdout",
     "output_type": "stream",
     "text": [
      "Copying file://hl_podcast_42.txt [Content-Type=text/plain]...\n",
      "/ [1 files][ 97.0 KiB/ 97.0 KiB]                                                \n",
      "Operation completed over 1 objects/97.0 KiB.                                     \n"
     ]
    }
   ],
   "source": [
    "!gsutil cp hl_podcast_42.txt gs://legalm-staging/huberman_lab/"
   ]
  },
  {
   "cell_type": "code",
   "execution_count": 34,
   "id": "07b1670c-48d5-4aa9-b9bf-4bb73bf63d98",
   "metadata": {},
   "outputs": [
    {
     "data": {
      "text/plain": [
       "16212"
      ]
     },
     "execution_count": 34,
     "metadata": {},
     "output_type": "execute_result"
    }
   ],
   "source": [
    "len(text.split(\" \"))"
   ]
  },
  {
   "cell_type": "code",
   "execution_count": null,
   "id": "c6f18d29-14c0-4ae0-bf55-6e89c45b1330",
   "metadata": {},
   "outputs": [],
   "source": []
  }
 ],
 "metadata": {
  "kernelspec": {
   "display_name": "Python (Local)",
   "language": "python",
   "name": "local-base"
  },
  "language_info": {
   "codemirror_mode": {
    "name": "ipython",
    "version": 3
   },
   "file_extension": ".py",
   "mimetype": "text/x-python",
   "name": "python",
   "nbconvert_exporter": "python",
   "pygments_lexer": "ipython3",
   "version": "3.7.12"
  }
 },
 "nbformat": 4,
 "nbformat_minor": 5
}
