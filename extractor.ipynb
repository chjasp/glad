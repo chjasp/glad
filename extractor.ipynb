{
 "cells": [
  {
   "cell_type": "code",
   "execution_count": 26,
   "id": "80d6561b-896d-448d-ad2d-777adbb7d21c",
   "metadata": {},
   "outputs": [],
   "source": [
    "import os\n",
    "from tqdm import tqdm\n",
    "from openai import OpenAI\n",
    "from dotenv import load_dotenv\n",
    "from langchain.text_splitter import RecursiveCharacterTextSplitter"
   ]
  },
  {
   "cell_type": "code",
   "execution_count": 27,
   "id": "bffc1181-d6e2-43fd-b8be-ec34846b9b64",
   "metadata": {},
   "outputs": [],
   "source": [
    "load_dotenv()\n",
    "client = OpenAI(api_key = os.getenv(\"OPENAI_API_KEY\"))"
   ]
  },
  {
   "cell_type": "code",
   "execution_count": 9,
   "id": "019c57b5-e16a-4d58-878f-50c2c94d8932",
   "metadata": {},
   "outputs": [],
   "source": [
    "with open(\"hl_podcast_42.txt\", \"r\") as f:\n",
    "    transcript = f.read()"
   ]
  },
  {
   "cell_type": "code",
   "execution_count": 16,
   "id": "f3c3669a-b5d1-454c-8213-a01937050dbf",
   "metadata": {},
   "outputs": [],
   "source": [
    "text_splitter = RecursiveCharacterTextSplitter(\n",
    "    chunk_size=5000,\n",
    "    chunk_overlap=500\n",
    ")\n",
    "\n",
    "documents = text_splitter.create_documents([transcript])"
   ]
  },
  {
   "cell_type": "code",
   "execution_count": 28,
   "id": "960e5450-1a29-4d56-aaba-c334ca925963",
   "metadata": {},
   "outputs": [],
   "source": [
    "def chat_gpt_query(prompt):\n",
    "    response = client.chat.completions.create(\n",
    "        model=\"gpt-3.5-turbo\",\n",
    "        messages=[{\"role\": \"user\", \"content\": prompt}]\n",
    "    )\n",
    "    return response.choices[0].message.content.strip()"
   ]
  },
  {
   "cell_type": "code",
   "execution_count": 29,
   "id": "83f40e5a-5f9d-45f1-9547-954b704cf616",
   "metadata": {},
   "outputs": [
    {
     "name": "stderr",
     "output_type": "stream",
     "text": [
      "  5% 1/22 [00:07<02:29,  7.12s/it]"
     ]
    },
    {
     "name": "stdout",
     "output_type": "stream",
     "text": [
      "Beneficial habits and nutrients mentioned in the text:\n",
      "1. Time-restricted feeding or intermittent fasting\n",
      "2. Eating foods that are good for brain health and focus\n",
      "3. Metabolically accessible foods that can be converted into energy for the brain\n",
      "4. Believing in the health benefits and energy-boosting effects of the food\n",
      "\n",
      "Harmful habits and nutrients mentioned in the text:\n",
      "None mentioned.\n",
      "\n",
      "Therefore, the lists would be:\n",
      "Beneficial: Time-restricted feeding, brain-healthy foods, metabolically accessible foods, belief in food's benefits.\n",
      "Harmful: -\n"
     ]
    },
    {
     "name": "stderr",
     "output_type": "stream",
     "text": [
      "  9% 2/22 [00:14<02:19,  6.99s/it]"
     ]
    },
    {
     "name": "stdout",
     "output_type": "stream",
     "text": [
      "List of habits beneficial to brain performance:\n",
      "1. Wearing eyeglasses and sunglasses of high quality and clarity.\n",
      "2. Using lightweight eyeglasses and sunglasses that are comfortable and don't slip off.\n",
      "3. Taking Athletic Greens, a vitamin mineral probiotic drink that supports brain health through gut-brain access.\n",
      "4. Practicing meditation with the help of the Headspace app.\n",
      "5. Engaging in consistent meditation to reduce stress, improve sleep, and enhance cognition.\n",
      "\n",
      "List of harmful habits to brain performance: -\n"
     ]
    },
    {
     "name": "stderr",
     "output_type": "stream",
     "text": [
      " 14% 3/22 [00:19<02:00,  6.32s/it]"
     ]
    },
    {
     "name": "stdout",
     "output_type": "stream",
     "text": [
      "Beneficial habits and nutrients for brain performance:\n",
      "\n",
      "Habits:\n",
      "1. Getting quality sleep on a regular basis\n",
      "2. Maintaining social connections\n",
      "3. Avoiding depression\n",
      "4. Engaging in cardiovascular exercise for 150-180 minutes per week\n",
      "5. Avoiding clogged arteries and maintaining cardiovascular health\n",
      "\n",
      "Nutrients:\n",
      "1. Certain foods that enhance brain function\n",
      "2. Foods that support brain health\n",
      "\n",
      "Harmful habits and nutrients for brain performance:\n"
     ]
    },
    {
     "name": "stderr",
     "output_type": "stream",
     "text": [
      " 18% 4/22 [00:22<01:30,  5.05s/it]"
     ]
    },
    {
     "name": "stdout",
     "output_type": "stream",
     "text": [
      "Beneficial habits and nutrients for brain performance:\n",
      "\n",
      "Habits:\n",
      "- Following a low carbohydrate or ketogenic diet\n",
      "- Maintaining a healthy diet\n",
      "\n",
      "Nutrients:\n",
      "- Essential fatty acids\n",
      "- Omega-3s\n",
      "\n",
      "Harmful: -\n"
     ]
    },
    {
     "name": "stderr",
     "output_type": "stream",
     "text": [
      " 23% 5/22 [00:29<01:34,  5.57s/it]"
     ]
    },
    {
     "name": "stdout",
     "output_type": "stream",
     "text": [
      "Habits beneficial for brain performance: \n",
      "- Consuming foods high in omega-3s (fish, mackerel, salmon, herring, oysters, sardines, anchovies, chia seeds, walnuts, soybeans) \n",
      "- Supplementation with omega-3s \n",
      "\n",
      "Nutrients beneficial for brain performance: \n",
      "- EPA (eicosapentaenoic acid) \n",
      "- Phosphatidylserine \n",
      "\n",
      "Harmful habits or nutrients for brain performance are not mentioned in the text.\n"
     ]
    },
    {
     "name": "stderr",
     "output_type": "stream",
     "text": [
      " 27% 6/22 [00:33<01:22,  5.16s/it]"
     ]
    },
    {
     "name": "stdout",
     "output_type": "stream",
     "text": [
      "Habits beneficial to brain performance: \n",
      "1. Supplementing with phosphatidylserine\n",
      "2. Consuming foods high in choline, such as eggs\n",
      "\n",
      "Habits harmful to brain performance: -\n",
      " \n",
      "Nutrients beneficial to brain performance: \n",
      "1. Phosphatidylserine\n",
      "2. Choline\n",
      "\n",
      "Nutrients harmful to brain performance: -\n"
     ]
    },
    {
     "name": "stderr",
     "output_type": "stream",
     "text": [
      " 32% 7/22 [00:37<01:12,  4.85s/it]"
     ]
    },
    {
     "name": "stdout",
     "output_type": "stream",
     "text": [
      "Habits:\n",
      "- Ingesting enough water\n",
      "- Consuming enough sodium, potassium, and magnesium\n",
      "- Maintaining proper hydration\n",
      "\n",
      "Nutrients:\n",
      "- EPA (omega-3 fatty acids)\n",
      "- Phosphatidylserine\n",
      "- Choline\n",
      "\n",
      "Note: There are no harmful habits or nutrients mentioned in the text.\n"
     ]
    },
    {
     "name": "stderr",
     "output_type": "stream",
     "text": [
      " 36% 8/22 [00:46<01:26,  6.21s/it]"
     ]
    },
    {
     "name": "stdout",
     "output_type": "stream",
     "text": [
      "Habits beneficial to brain performance:\n",
      "1. Paying attention to foods that contain choline and consuming them on a semi-regular basis.\n",
      "2. Supplementing with alpha-GPC, specifically 300 milligrams per day.\n",
      "3. Supplementing with creatine, specifically at least 5 grams per day.\n",
      "\n",
      "Nutrients beneficial to brain performance:\n",
      "1. EPA (eicosapentaenoic acid) - found in fish oil, specifically 2-3 grams per day.\n",
      "2. Phosphatidylserine - taken as a supplement, although not mentioned if it is beneficial or harmful.\n",
      "3. Alpha-GPC - taken as a supplement, specifically 300 milligrams per day.\n",
      "4. Creatine - derived from meat sources or supplemented, specifically at least 5 grams per day.\n",
      "\n",
      "Harmful: -\n"
     ]
    },
    {
     "name": "stderr",
     "output_type": "stream",
     "text": [
      " 41% 9/22 [00:50<01:10,  5.44s/it]"
     ]
    },
    {
     "name": "stdout",
     "output_type": "stream",
     "text": [
      "Beneficial habits and nutrients for brain performance:\n",
      "- Creatine supplementation\n",
      "- Consuming foods with EPAs, creatine, and alpha-GPC\n",
      "- Consuming blueberries and other dark berries rich in anthocyanins\n",
      "\n",
      "Harmful habits and nutrients for brain performance: None mentioned in the text.\n"
     ]
    },
    {
     "name": "stderr",
     "output_type": "stream",
     "text": [
      " 45% 10/22 [00:56<01:07,  5.65s/it]"
     ]
    },
    {
     "name": "stdout",
     "output_type": "stream",
     "text": [
      "Beneficial habits and nutrients for brain performance:\n",
      "1. Blueberry consumption\n",
      "2. Supplementing with anthocyanins\n",
      "3. Consuming foods rich in EPA fatty acids\n",
      "4. Consuming foods rich in phosphatidylserine\n",
      "5. Consuming foods rich in choline\n",
      "6. Consuming foods rich in creatine\n",
      "7. Consuming foods rich in glutamine\n",
      "\n",
      "Harmful habits and nutrients for brain performance:\n",
      "- No harmful habits or nutrients are mentioned in the text.\n"
     ]
    },
    {
     "name": "stderr",
     "output_type": "stream",
     "text": [
      " 50% 11/22 [01:00<00:55,  5.03s/it]"
     ]
    },
    {
     "name": "stdout",
     "output_type": "stream",
     "text": [
      "Beneficial habits/nutrients for brain performance:\n",
      "1. Glutamine supplementation\n",
      "2. Proper sleep and breathing habits\n",
      "3. Reduction of inflammation\n",
      "\n",
      "Harmful habits/nutrients for brain performance: -\n",
      "(Note: No harmful habits/nutrients were mentioned in the text)\n"
     ]
    },
    {
     "name": "stderr",
     "output_type": "stream",
     "text": [
      " 55% 12/22 [01:04<00:48,  4.89s/it]"
     ]
    },
    {
     "name": "stdout",
     "output_type": "stream",
     "text": [
      "Beneficial habits and nutrients for brain performance:\n",
      "- Eating foods and taking supplements that support brain function in the short-term and long-term\n",
      "- Consuming micronutrients that promote brain health\n",
      "- Pursuing healthy eating habits\n",
      "- Maintaining good sleep quality\n",
      "- Reducing inflammation throughout the body\n",
      "- Supporting cardiovascular function\n",
      "\n",
      "Harmful habits and nutrients for brain performance:\n",
      "- None mentioned\n"
     ]
    },
    {
     "name": "stderr",
     "output_type": "stream",
     "text": [
      " 59% 13/22 [01:11<00:49,  5.45s/it]"
     ]
    },
    {
     "name": "stdout",
     "output_type": "stream",
     "text": [
      "Beneficial habits and nutrients for brain performance:\n",
      "1. Diet/nutrition\n",
      "2. Chewing food\n",
      "3. Interoception/awareness of body signals\n",
      "4. Stress management\n",
      "\n",
      "Harmful habits and nutrients for brain performance:\n",
      "1. Indigestion\n",
      "2. Excessive food intake\n",
      "3. Lack of sleep/tiredness\n",
      "4. Exposure to unhealthy tastes/flavors (bitter, salty)\n",
      "\n",
      "Note: This text does not explicitly mention all habits and nutrients related to brain performance, so the lists provided are based on the information given.\n"
     ]
    },
    {
     "name": "stderr",
     "output_type": "stream",
     "text": [
      " 64% 14/22 [01:16<00:41,  5.22s/it]"
     ]
    },
    {
     "name": "stdout",
     "output_type": "stream",
     "text": [
      "Habits beneficial to brain performance: \n",
      "1. Rewiring one's sense of taste and preference for particular foods.\n",
      "2. Paying attention to the mechanics related to food and digestion.\n",
      "3. Being conscious of the chemistry of food and digestion.\n",
      "\n",
      "Nutrients beneficial to brain performance: \n",
      "1. Amino acids\n",
      "2. Sugars\n",
      "3. Fatty acids\n",
      "\n",
      "Harmful: -\n"
     ]
    },
    {
     "name": "stderr",
     "output_type": "stream",
     "text": [
      " 68% 15/22 [01:27<00:50,  7.16s/it]"
     ]
    },
    {
     "name": "stdout",
     "output_type": "stream",
     "text": [
      "Beneficial Habits and Nutrients for Brain Performance:\n",
      "1. Consuming foods rich in omega-3 fatty acids (such as salmon)\n",
      "2. Having a healthy gut microbiome\n",
      "3. Ingesting fermented foods that are low in sugar\n",
      "\n",
      "Harmful Habits and Nutrients for Brain Performance: \n",
      "None mentioned.\n",
      "\n",
      "Therefore, the lists are as follows:\n",
      "Beneficial: \n",
      "- Consuming foods rich in omega-3 fatty acids\n",
      "- Having a healthy gut microbiome\n",
      "- Ingesting fermented foods that are low in sugar\n",
      "\n",
      "Harmful: -\n"
     ]
    },
    {
     "name": "stderr",
     "output_type": "stream",
     "text": [
      " 73% 16/22 [01:31<00:36,  6.08s/it]"
     ]
    },
    {
     "name": "stdout",
     "output_type": "stream",
     "text": [
      "Beneficial habits for brain performance: \n",
      "1. Consuming food or drinks that are sweet or contain sugar \n",
      "2. Seeking out foods that increase blood glucose levels \n",
      "3. Choosing foods that allow neurons to be metabolically active \n",
      "\n",
      "Harmful habits for brain performance: \n",
      "None mentioned in the text.\n"
     ]
    },
    {
     "name": "stderr",
     "output_type": "stream",
     "text": [
      " 77% 17/22 [01:38<00:31,  6.24s/it]"
     ]
    },
    {
     "name": "stdout",
     "output_type": "stream",
     "text": [
      "Beneficial Habits:\n",
      "1. Seeking out particular foods based on taste and impact on blood glucose levels.\n",
      "2. Rewiring the taste system to serve better.\n",
      "3. Ingesting artificial sweeteners in moderation.\n",
      "\n",
      "Harmful Habits:\n",
      "1. Consuming artificial sweeteners for a longer period of time can tap into the dopamine system and lead to increased consumption.\n",
      "2. Developing a dependency or addiction to artificial sweeteners.\n",
      "\n",
      "Beneficial Nutrients:\n",
      "- No nutrients mentioned\n",
      "\n",
      "Harmful Nutrients:\n",
      "- No nutrients mentioned\n"
     ]
    },
    {
     "name": "stderr",
     "output_type": "stream",
     "text": [
      " 82% 18/22 [01:42<00:22,  5.70s/it]"
     ]
    },
    {
     "name": "stdout",
     "output_type": "stream",
     "text": [
      "Beneficial Habits:\n",
      "1. Consuming artificial sweeteners away from foods that raise blood glucose levels\n",
      "2. Managing insulin levels effectively\n",
      "\n",
      "Harmful Habits:\n",
      "1. Consuming artificial sweeteners in combination with foods that raise blood glucose levels\n",
      "\n",
      "Beneficial Nutrients: -\n",
      "Harmful Nutrients: -\n"
     ]
    },
    {
     "name": "stderr",
     "output_type": "stream",
     "text": [
      " 86% 19/22 [01:48<00:17,  5.68s/it]"
     ]
    },
    {
     "name": "stdout",
     "output_type": "stream",
     "text": [
      "Beneficial Habits: \n",
      "- Eating foods and drinks that elevate blood glucose\n",
      "- Consuming foods and drinks that increase dopamine levels\n",
      "- Adopting a perception that healthy foods are good for brain metabolism\n",
      "- Thinking positively about the foods being consumed\n",
      "\n",
      "Harmful Habits: \n",
      "- None mentioned\n",
      "\n",
      "Beneficial Nutrients: \n",
      "- Omega-3s found in salmon\n",
      "- Polyphenols found in kale\n",
      "\n",
      "Harmful Nutrients: \n",
      "- None mentioned\n"
     ]
    },
    {
     "name": "stderr",
     "output_type": "stream",
     "text": [
      " 91% 20/22 [01:51<00:09,  4.92s/it]"
     ]
    },
    {
     "name": "stdout",
     "output_type": "stream",
     "text": [
      "Beneficial: \n",
      "- Foods that increase blood glucose and brain metabolism\n",
      "- Foods that are good for brain health\n",
      "- Foods that promote brain health\n",
      "\n",
      "Harmful: \n",
      "None mentioned in the text.\n"
     ]
    },
    {
     "name": "stderr",
     "output_type": "stream",
     "text": [
      " 95% 21/22 [01:58<00:05,  5.43s/it]"
     ]
    },
    {
     "name": "stdout",
     "output_type": "stream",
     "text": [
      "Habits mentioned in the text that are beneficial or harmful to brain performance:\n",
      "\n",
      "Beneficial habits:\n",
      "- Pairing foods that are good for brain metabolism with other meals\n",
      "- Ingesting things that are good for brain health\n",
      "- Consuming foods and food components that are healthier for the brain\n",
      "\n",
      "Harmful habits:\n",
      "- Consuming foods that are highly palatable and sweet, which can shift the dopamine system and lead to cravings for unhealthy foods\n",
      "\n",
      "Nutrients mentioned in the text that are beneficial or harmful to brain performance:\n",
      "- No specific nutrients are mentioned in the text.\n"
     ]
    },
    {
     "name": "stderr",
     "output_type": "stream",
     "text": [
      "100% 22/22 [02:02<00:00,  5.56s/it]"
     ]
    },
    {
     "name": "stdout",
     "output_type": "stream",
     "text": [
      "Beneficial habits and nutrients mentioned in the text:\n",
      "- Altering dietary choices over time and in the correct way to reshape food preference and metabolism of the brain\n",
      "- Consuming superfoods that enhance short and long-term cognition and neuronal health\n",
      "\n",
      "Harmful habits and nutrients mentioned in the text:\n",
      "- None mentioned in the given text\n"
     ]
    },
    {
     "name": "stderr",
     "output_type": "stream",
     "text": [
      "\n"
     ]
    }
   ],
   "source": [
    "for doc in tqdm(documents):\n",
    "    content = doc.page_content\n",
    "    prompt = f\"\"\"Create 2 lists. In those lists, list all the habits and \n",
    "                nutrients mentioned in this text that are beneficial or harmful to brain performance. \n",
    "                If there are none mentioned, return: 'Benefitial: -' or 'Harmful: -'. \n",
    "                Here's the transcript: {content}\"\"\"\n",
    "    result = chat_gpt_query(prompt)\n",
    "    print(result)"
   ]
  },
  {
   "cell_type": "code",
   "execution_count": 15,
   "id": "4c0e703b-7af4-402d-b059-09ccc9ddf95b",
   "metadata": {},
   "outputs": [
    {
     "data": {
      "text/plain": [
       "langchain_core.documents.base.Document"
      ]
     },
     "execution_count": 15,
     "metadata": {},
     "output_type": "execute_result"
    }
   ],
   "source": [
    "type(texts[0])"
   ]
  },
  {
   "cell_type": "code",
   "execution_count": null,
   "id": "e6053a13-9377-4e2a-be6e-64da34299f07",
   "metadata": {},
   "outputs": [],
   "source": [
    "for chunk in chunks:\n",
    "    response = openai.ChatCompletion.create(\n",
    "        model=\"gpt-3.5-turbo\",\n",
    "        messages=[\n",
    "            {\"role\": \"system\", \"content\": \"You are a helpful assistant.\"},\n",
    "            {\"role\": \"user\", \"content\": f\"Create 2 lists. In those lists, list all the habits and nutrients mentioned in this text that are beneficial or harmful to brain performance. If there are none mentioned, return: 'Benefitial: -' or 'Harmful: -'. Here's the transcript:\": {chunk}\"}\n",
    "        ]\n",
    "    )\n",
    "    information = extract_information(response['choices'][0]['message']['content'])"
   ]
  }
 ],
 "metadata": {
  "kernelspec": {
   "display_name": "Python 3.11 (Local)",
   "language": "python",
   "name": "local-python311"
  },
  "language_info": {
   "codemirror_mode": {
    "name": "ipython",
    "version": 3
   },
   "file_extension": ".py",
   "mimetype": "text/x-python",
   "name": "python",
   "nbconvert_exporter": "python",
   "pygments_lexer": "ipython3",
   "version": "3.11.7"
  }
 },
 "nbformat": 4,
 "nbformat_minor": 5
}
